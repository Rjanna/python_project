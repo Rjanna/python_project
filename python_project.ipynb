{
  "nbformat": 4,
  "nbformat_minor": 0,
  "metadata": {
    "colab": {
      "provenance": [],
      "authorship_tag": "ABX9TyORfdZxX5geLyl0RNdazrLl",
      "include_colab_link": true
    },
    "kernelspec": {
      "name": "python3",
      "display_name": "Python 3"
    },
    "language_info": {
      "name": "python"
    }
  },
  "cells": [
    {
      "cell_type": "markdown",
      "metadata": {
        "id": "view-in-github",
        "colab_type": "text"
      },
      "source": [
        "<a href=\"https://colab.research.google.com/github/Rjanna/python_project/blob/main/python_project.ipynb\" target=\"_parent\"><img src=\"https://colab.research.google.com/assets/colab-badge.svg\" alt=\"Open In Colab\"/></a>"
      ]
    },
    {
      "cell_type": "code",
      "execution_count": null,
      "metadata": {
        "colab": {
          "base_uri": "https://localhost:8080/"
        },
        "id": "KvIbIDgVQMiq",
        "outputId": "08f984db-db53-4817-dcf4-5468a82496a5"
      },
      "outputs": [
        {
          "metadata": {
            "tags": null
          },
          "name": "stdout",
          "output_type": "stream",
          "text": [
            "Welcome to your local internet provider! To proceed, kindly enter the following information:\n",
            "--------------------------------------------------\n"
          ]
        }
      ],
      "source": [
        "def get_customer_input():\n",
        "    print(\"Welcome to your local internet provider! To proceed, kindly enter the following information:\")\n",
        "    complete_details = False\n",
        "\n",
        "    while not complete_details:\n",
        "        print(\"-\" * 50)\n",
        "        name = input(\"Customer Name: \")\n",
        "\n",
        "        # Validate name input\n",
        "        if not name.isalpha():\n",
        "            print(\"Invalid. Please enter letters only.\")\n",
        "            name = input(\"Customer Name: \")\n",
        "\n",
        "        account_number = input(\"Account Number: \")\n",
        "\n",
        "        # Validate account number\n",
        "        if not account_number.isnumeric() or int(account_number) < 0:\n",
        "            print(\"Invalid input. Please enter a positive number.\")\n",
        "            account_number = input(\"Account Number: \")\n",
        "\n",
        "        phone_number = input(\"Phone Number: \")\n",
        "\n",
        "        # Validate phone number\n",
        "        if not phone_number.isnumeric() or int(phone_number) < 0:\n",
        "            print(\"Invalid input. Please enter a positive number.\")\n",
        "            phone_number = input(\"Phone Number: \")\n",
        "\n",
        "        email_address = input(\"Email Address: \")\n",
        "\n",
        "        # Validate email address\n",
        "        email_address = input(\"Email Address: \")\n",
        "        # Use a regular expression to check if the email address is valid\n",
        "        if \"@\" not in email_address:\n",
        "            print(\"Invalid input. Please enter a valid email address.\")\n",
        "\n",
        "\n",
        "        internet_plan = input(\"Internet Plan (Standard, Pro, Business): \").lower()\n",
        "\n",
        "        # Validate internet plan\n",
        "        valid_plans = [\"standard\", \"pro\", \"business\"]\n",
        "        if internet_plan not in valid_plans:\n",
        "            print(\"Invalid input. Please choose a valid internet plan.\")\n",
        "            internet_plan = input(\"Internet Plan: \").lower()\n",
        "            continue\n",
        "\n",
        "        bandwidth_consumed = input(\"Bandwidth used for a month (MB): \")\n",
        "\n",
        "        # Validate bandwidth\n",
        "        if not bandwidth_consumed.isnumeric() or int(bandwidth_consumed) < 0:\n",
        "            print(\"Invalid input. Please enter a positive number.\")\n",
        "            bandwidth_consumed = input(\"Bandwidth used for a month (MB): \")\n",
        "\n",
        "        # Data is complete\n",
        "        complete_details = True\n",
        "        print(\"-\" * 50)\n",
        "\n",
        "    # Define constants\n",
        "    STANDARD = 1000\n",
        "    PRO = 2000\n",
        "    BUSINESS = 3500\n",
        "    STANDARD_EXCESS = 0.05\n",
        "    PRO_EXCESS = 0.15\n",
        "    BUSINESS_EXCESS = 0.5\n",
        "    GBtoMB = 1024\n",
        "\n",
        "\n",
        "    if internet_plan == \"standard\":\n",
        "        # Check if bandwidth exceeded limit\n",
        "        if int(bandwidth_consumed) > 30 * GBtoMB:\n",
        "            excess_bandwidth_mb = int(bandwidth_consumed) - 30 * GBtoMB\n",
        "            excess_charges = excess_bandwidth_mb * STANDARD_EXCESS\n",
        "\n",
        "        total_bill = STANDARD + excess_charges\n",
        "\n",
        "    elif internet_plan == \"pro\":\n",
        "        # Check if bandwidth exceeded limit\n",
        "        if int(bandwidth_consumed) > 60 * GBtoMB:\n",
        "            excess_bandwidth_mb = int(bandwidth_consumed) - 60 * GBtoMB\n",
        "            excess_charges = excess_bandwidth_mb * PRO_EXCESS\n",
        "\n",
        "        total_bill = PRO + excess_charges\n",
        "\n",
        "    elif internet_plan == \"business\":\n",
        "        # Check if bandwidth exceeded limit\n",
        "        if int(bandwidth_consumed) > 120 * GBtoMB:\n",
        "            excess_bandwidth_mb = int(bandwidth_consumed) - 120 * GBtoMB\n",
        "            excess_charges = excess_bandwidth_mb * BUSINESS_EXCESS\n",
        "\n",
        "        total_bill = BUSINESS + excess_charges\n",
        "    else:\n",
        "        return\n",
        "\n",
        "\n",
        "# Example usage:\n",
        "name, account_number, phone_number, email_address, internet_plan, bandwidth_consumed = get_customer_input()\n",
        "total_bill = calculate_total_bill(internet_plan, bandwidth_consumed)\n",
        "\n",
        "# Print or use the obtained information as needed\n",
        "print(\"Name:\", name)\n",
        "print(\"Account Number:\",account_number)\n",
        "print(\"Phone Number:\", phone_number)\n",
        "print(\"Email Address:\",email_address)\n",
        "print(\"Internet Plan:\",internet_plan)\n",
        "print(\"Bandwidth Consumed\",bandwidth_consumed,\"MB\")\n",
        "print(\"Total Bill:\",total_bill,\"Php\")\n",
        "\n",
        "\n",
        "\n",
        "\n",
        "\n",
        "\n",
        "\n",
        "\n",
        "\n",
        "\n"
      ]
    }
  ]
}